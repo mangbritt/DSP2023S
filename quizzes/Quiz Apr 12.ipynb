{
 "cells": [
  {
   "cell_type": "markdown",
   "id": "b1e672e3",
   "metadata": {},
   "source": [
    "# <center>Lab 9 &ndash; DATA 3401 (Fall 2022)</center>\n",
    "\n",
    "## Lab Date: 11/11\n",
    "## Due Date 1/18 (before the beginning of lab)\n",
    "\n",
    "## Lab Description\n",
    "The purpose of this lab is for you to become more familiar with reading and writing .txt files"
   ]
  },
  {
   "cell_type": "markdown",
   "id": "266ca2b4",
   "metadata": {},
   "source": [
    "## Exercise 1\n",
    "\n",
    "1. Download the file `Shakespeare.txt` from this folder of the course repo into your Lab9 folder. \n",
    "1. Open the file in read mode, and print the file one line at a time in your notebook (get rid of any extra line breaks if they appear)\n",
    "1. Write a function that takes a single character string input argument that counts the number of times that character appears in the text file (that is, `count_char(char)` should return the number of times `char` appears in the file, where `char` could be `a`, `b`, `c`, ...)\n",
    "1. Using your function from the previous part, count the number of times a, e, ', and '&nbsp;' (the space character) appear in the document. Display the counts nicely with print statements. "
   ]
  },
  {
   "cell_type": "code",
   "execution_count": 17,
   "id": "b3cad8fb",
   "metadata": {},
   "outputs": [
    {
     "name": "stdout",
     "output_type": "stream",
     "text": [
      "54\n",
      "40\n",
      "103\n"
     ]
    }
   ],
   "source": [
    "# Write your solutions here\n",
    "x = [\"So is it not with me as with that Muse\",\n",
    "    \"Stirr'd by a painted beauty to his verse,\",\n",
    "    \"Who heaven itself for ornament doth use\",\n",
    "    \"And every fair with his fair doth rehearse\",\n",
    "    \"Making a couplement of proud compare,\",\n",
    "    \"With sun and moon, with earth and sea's rich gems,\",\n",
    "    \"With April's first-born flowers, and all things rare\",\n",
    "    \"That heaven's air in this huge rondure hems.\",\n",
    "    \"O' let me, true in love, but truly write,\",\n",
    "    \"And then believe me, my love is as fair\",\n",
    "    \"As any mother's child, though not so bright\",\n",
    "    \"As those gold candles fix'd in heaven's air:\",\n",
    "    \"Let them say more than like of hearsay well;\",\n",
    "    \"I will not praise that purpose not to sell.\"]\n",
    "\n",
    "def count_char(char):\n",
    "    char = char.lower()\n",
    "    count = 0\n",
    "    for s in x:\n",
    "        count += s.lower().count(char)\n",
    "    return count\n",
    "\n",
    "print(count_char('e'))\n",
    "print(count_char('a'))\n",
    "print(count_char(' '))"
   ]
  },
  {
   "cell_type": "markdown",
   "id": "c57e3b5d",
   "metadata": {},
   "source": [
    "## Exercise 2\n",
    "\n",
    "1. Write a function that takes in three arguments `string`, `char`, `replacement`, that replaces every instance of `char` in `string` with `replacement`.  For example, `replace('Hello','l','!')` would return `He!!o`.  Note, you may use your function from the midterm as a starting point.\n",
    "1. Capture the text from `Shakespeare.txt`, and replace all of the character 'a' with '#'\n",
    "1. Write the new text to a new file called `Shakespeare_modified.txt`"
   ]
  },
  {
   "cell_type": "code",
   "execution_count": 18,
   "id": "7868f952",
   "metadata": {},
   "outputs": [],
   "source": [
    "# Write your solutions here\n",
    "def replace_file(file_path, char, replacement, new_file_path):\n",
    "    with open(file_path, 'r') as file:\n",
    "        file_contents = file.read()\n",
    "    replaced_contents = file_contents.replace(char, replacement)\n",
    "    with open(new_file_path, 'w') as new_file:\n",
    "        new_file.write(replaced_contents)\n",
    "        \n",
    "replace_file(\"shakespeare.txt\", \"a\", \"#\", \"shakespeare_modified.txt\")"
   ]
  },
  {
   "cell_type": "markdown",
   "id": "33068a69",
   "metadata": {},
   "source": [
    "## Exercise 3\n",
    "\n",
    "1. Write a function that takes an integer input argument `n`, opens the `Shakespeare.txt` file, and creates a list of all words in the file whose length is less than or equal to `n`.\n",
    "1. Test your function with `n=2, 4, 6`. For each `n`, you should print out the full list."
   ]
  },
  {
   "cell_type": "code",
   "execution_count": 23,
   "id": "ce8f33aa",
   "metadata": {},
   "outputs": [
    {
     "data": {
      "text/plain": [
       "['So',\n",
       " 'is',\n",
       " 'it',\n",
       " 'not',\n",
       " 'with',\n",
       " 'me',\n",
       " 'as',\n",
       " 'with',\n",
       " 'that',\n",
       " 'Muse',\n",
       " 'by',\n",
       " 'a',\n",
       " 'to',\n",
       " 'his',\n",
       " 'Who',\n",
       " 'for',\n",
       " 'doth',\n",
       " 'use',\n",
       " 'And',\n",
       " 'fair',\n",
       " 'with',\n",
       " 'his',\n",
       " 'fair',\n",
       " 'doth',\n",
       " 'a',\n",
       " 'of',\n",
       " 'With',\n",
       " 'sun',\n",
       " 'and',\n",
       " 'with',\n",
       " 'and',\n",
       " 'rich',\n",
       " 'With',\n",
       " 'and',\n",
       " 'all',\n",
       " 'rare',\n",
       " 'That',\n",
       " 'air',\n",
       " 'in',\n",
       " 'this',\n",
       " 'huge',\n",
       " \"O'\",\n",
       " 'let',\n",
       " 'me,',\n",
       " 'true',\n",
       " 'in',\n",
       " 'but',\n",
       " 'And',\n",
       " 'then',\n",
       " 'me,',\n",
       " 'my',\n",
       " 'love',\n",
       " 'is',\n",
       " 'as',\n",
       " 'fair',\n",
       " 'As',\n",
       " 'any',\n",
       " 'not',\n",
       " 'so',\n",
       " 'As',\n",
       " 'gold',\n",
       " 'in',\n",
       " 'air:',\n",
       " 'Let',\n",
       " 'them',\n",
       " 'say',\n",
       " 'more',\n",
       " 'than',\n",
       " 'like',\n",
       " 'of',\n",
       " 'I',\n",
       " 'will',\n",
       " 'not',\n",
       " 'that',\n",
       " 'not',\n",
       " 'to']"
      ]
     },
     "execution_count": 23,
     "metadata": {},
     "output_type": "execute_result"
    }
   ],
   "source": [
    "# Write your solutions here\n",
    "def length_list(n, file_path):\n",
    "    with open(file_path, 'r') as file:\n",
    "        words = file.read().split()\n",
    "    short_words = [word for word in words if len(word) <= n]\n",
    "    return short_words\n",
    "\n",
    "length_count(4, \"shakespeare.txt\")"
   ]
  },
  {
   "cell_type": "code",
   "execution_count": null,
   "id": "8dac63e6",
   "metadata": {},
   "outputs": [],
   "source": []
  }
 ],
 "metadata": {
  "kernelspec": {
   "display_name": "Python 3 (ipykernel)",
   "language": "python",
   "name": "python3"
  },
  "language_info": {
   "codemirror_mode": {
    "name": "ipython",
    "version": 3
   },
   "file_extension": ".py",
   "mimetype": "text/x-python",
   "name": "python",
   "nbconvert_exporter": "python",
   "pygments_lexer": "ipython3",
   "version": "3.9.13"
  }
 },
 "nbformat": 4,
 "nbformat_minor": 5
}
