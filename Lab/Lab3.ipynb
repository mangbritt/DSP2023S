{
 "cells": [
  {
   "cell_type": "markdown",
   "metadata": {},
   "source": [
    "## Problem 1:\n",
    "Write a function/script that reads takes a string and returns True if the string is a palindrome. (A palindrome is a string that reads the same forwards and backwards, like 'racecar' or 'tacocat'.) "
   ]
  },
  {
   "cell_type": "code",
   "execution_count": 6,
   "metadata": {},
   "outputs": [],
   "source": [
    "# Write your function here\n",
    "def palindrome():\n",
    "    x = input(\"type a word \\n\")\n",
    "    if x == x[::-1]:\n",
    "        print(\"It's a palindrome!\")\n",
    "    else:\n",
    "        print(\"Sorry maybe next time\")\n",
    "    "
   ]
  },
  {
   "cell_type": "code",
   "execution_count": 8,
   "metadata": {
    "scrolled": true
   },
   "outputs": [
    {
     "name": "stdout",
     "output_type": "stream",
     "text": [
      "type a word \n",
      "tacocat\n",
      "It's a palindrome!\n"
     ]
    }
   ],
   "source": [
    "# Test your function here (Note, you should test with strings that are palindromes and ones that are not)\n",
    "palindrome()"
   ]
  },
  {
   "cell_type": "markdown",
   "metadata": {},
   "source": [
    "## Problem 2:\n",
    "Write a function/script that takes an integer input between 1 and 10.  If the input is 4, 5, or 6, then display a message 'Congratulations, you win the prize!'.  If the input is less than 4 or greater than 6, then display a mesage 'Sorry, try again.'  If the input is less than 1, greater than 10, or not an integer, display a message 'Invalid input, please input an integer between 1 and 10'."
   ]
  },
  {
   "cell_type": "code",
   "execution_count": 34,
   "metadata": {},
   "outputs": [],
   "source": [
    "# Write your function here\n",
    "def integer():\n",
    "    x = input(\"choose a number between 1 through 10 \")\n",
    "    win = ['4','5','6']\n",
    "    lose = ['1','2','3','7','8','9','10']\n",
    "    if x in win:\n",
    "        print(\"Congratulations, you win the prize \")\n",
    "        end()\n",
    "    elif x in lose:\n",
    "        print(\"Sorry try again\")\n",
    "        end()\n",
    "    else:\n",
    "        print(\"invalid input, please input an integer between 1 and 10\")\n",
    "        integer()"
   ]
  },
  {
   "cell_type": "code",
   "execution_count": 33,
   "metadata": {
    "scrolled": false
   },
   "outputs": [
    {
     "name": "stdout",
     "output_type": "stream",
     "text": [
      "choose a number between 1 through 10 13\n",
      "invalid input, please input an integer between 1 and 10\n",
      "choose a number between 1 through 10 plink\n",
      "invalid input, please input an integer between 1 and 10\n",
      "choose a number between 1 through 10 5\n",
      "Congratulations, you win the prize \n"
     ]
    }
   ],
   "source": [
    "# Test your function here (Note, you should test all possible cases for completeness)\n",
    "integer()"
   ]
  },
  {
   "cell_type": "markdown",
   "metadata": {},
   "source": [
    "### Problem 3:\n",
    "Write two functions `even(x)` and `odd(x)` (or scripts; these do not need to be named) that test if an integer x is even (or odd), and returns `True` if x is even (or odd) and `False` otherwise. Test both of your functions for correctness in the second and third cells below"
   ]
  },
  {
   "cell_type": "code",
   "execution_count": 37,
   "metadata": {},
   "outputs": [],
   "source": [
    "# Write your functions here\n",
    "def even(x):\n",
    "    if x%2 == 0:\n",
    "        print(\"true\")\n",
    "    else:\n",
    "        print(\"false\")\n",
    "        \n",
    "def odd(x):\n",
    "    if x%2 == 0:\n",
    "        print(\"false\")\n",
    "    else:\n",
    "        print(\"true\")"
   ]
  },
  {
   "cell_type": "code",
   "execution_count": 39,
   "metadata": {},
   "outputs": [
    {
     "name": "stdout",
     "output_type": "stream",
     "text": [
      "false\n"
     ]
    }
   ],
   "source": [
    "# Test your even function here\n",
    "even(13)"
   ]
  },
  {
   "cell_type": "code",
   "execution_count": 41,
   "metadata": {},
   "outputs": [
    {
     "name": "stdout",
     "output_type": "stream",
     "text": [
      "false\n"
     ]
    }
   ],
   "source": [
    "# Test your odd function here\n",
    "odd(14)"
   ]
  },
  {
   "cell_type": "markdown",
   "metadata": {},
   "source": [
    "### Problem 4:\n",
    "Write a function/script that takes in a list of numbers, and outputs the maximum number in the list."
   ]
  },
  {
   "cell_type": "code",
   "execution_count": 42,
   "metadata": {},
   "outputs": [],
   "source": [
    "# Write your function here\n",
    "def max(x):\n",
    "    x.sort()\n",
    "    print(x[-1])"
   ]
  },
  {
   "cell_type": "code",
   "execution_count": 43,
   "metadata": {},
   "outputs": [
    {
     "name": "stdout",
     "output_type": "stream",
     "text": [
      "85\n"
     ]
    }
   ],
   "source": [
    "# Test your function here (Note: test it on a list where the numbers are not in order)\n",
    "list = [56,2,85,30,24]\n",
    "max(list)"
   ]
  },
  {
   "cell_type": "markdown",
   "metadata": {},
   "source": [
    "### Problem 5:\n",
    "Write a function/script that takes a list of numbers as input and returns a list of the subset of elements that are less that 10. Test your solution."
   ]
  },
  {
   "cell_type": "code",
   "execution_count": 44,
   "metadata": {},
   "outputs": [],
   "source": [
    "# Write your function here\n",
    "def max(x):\n",
    "    return [num for num in x if num < 10]"
   ]
  },
  {
   "cell_type": "code",
   "execution_count": 45,
   "metadata": {},
   "outputs": [
    {
     "data": {
      "text/plain": [
       "[2, 6, 9]"
      ]
     },
     "execution_count": 45,
     "metadata": {},
     "output_type": "execute_result"
    }
   ],
   "source": [
    "# Test your function here\n",
    "list=[2,78,6,9,13]\n",
    "max(list)"
   ]
  },
  {
   "cell_type": "markdown",
   "metadata": {},
   "source": [
    "### Problem 6: \n",
    "Write a function/script that takes a number `x_max` as input and returns a function that performs the same task as Problem 5, but for `x_max` instead of 10."
   ]
  },
  {
   "cell_type": "code",
   "execution_count": 56,
   "metadata": {},
   "outputs": [],
   "source": [
    "# Write your function here\n",
    "def max(x, x_max):\n",
    "    return [num for num in x if num < x_max]"
   ]
  },
  {
   "cell_type": "code",
   "execution_count": 57,
   "metadata": {},
   "outputs": [
    {
     "name": "stdout",
     "output_type": "stream",
     "text": [
      "<generator object max.<locals>.<genexpr> at 0x000002217220DD60>\n"
     ]
    }
   ],
   "source": [
    "# Test your function here\n",
    "list=[2,78,6,9,13]\n",
    "max(list, 20)"
   ]
  },
  {
   "cell_type": "markdown",
   "metadata": {},
   "source": [
    "### Problem 7:\n",
    "Write a function/script that takes an integer and returns all its divisors (for example, the divisors of 18 are 1, 2, 3, 6, 9, and 18)"
   ]
  },
  {
   "cell_type": "code",
   "execution_count": 63,
   "metadata": {},
   "outputs": [],
   "source": [
    "# Write your function here\n",
    "def get_divisors(n):\n",
    "    divisors = []\n",
    "    i = 1\n",
    "    while i <= n:\n",
    "        if n % i == 0:\n",
    "            divisors.append(i)\n",
    "        i=i+1\n",
    "    print(divisors)\n"
   ]
  },
  {
   "cell_type": "code",
   "execution_count": 64,
   "metadata": {},
   "outputs": [
    {
     "name": "stdout",
     "output_type": "stream",
     "text": [
      "[1, 2, 3, 4, 6, 9, 12, 18, 36]\n"
     ]
    }
   ],
   "source": [
    "# Test your function here\n",
    "get_divisors(36)"
   ]
  },
  {
   "cell_type": "markdown",
   "metadata": {},
   "source": [
    "### Problem 8:\n",
    "A recursive sequence is obtained as follows. $a_0 = 1$, $a_1 = 2$, and for a given integer n, $a_n = 2a_{n-1}-a_{n-2}$. Write a function or script that computes $a_n$ for a given integer n. Note that $a_2 = 4-1 = 3$, for example. Test your function with $n = 5$, $n= 10$, and $n = 12$."
   ]
  },
  {
   "cell_type": "code",
   "execution_count": 54,
   "metadata": {},
   "outputs": [],
   "source": [
    "# Write your function here\n",
    "def recursive(n):\n",
    "    if n == 0:\n",
    "        return 1\n",
    "    elif n == 1:\n",
    "        return 2\n",
    "    else:\n",
    "        return (2 * recursive(n-1) - recursive(n-2))\n"
   ]
  },
  {
   "cell_type": "code",
   "execution_count": 55,
   "metadata": {},
   "outputs": [
    {
     "data": {
      "text/plain": [
       "3"
      ]
     },
     "execution_count": 55,
     "metadata": {},
     "output_type": "execute_result"
    }
   ],
   "source": [
    "# Test your function here\n",
    "recursive(2)"
   ]
  },
  {
   "cell_type": "markdown",
   "metadata": {},
   "source": [
    "## Problem 9:\n",
    "Write a Rock-Paper-Scissors game function/script, that takes 2 strings, the inputs of player 1 and player 2, and output 1 or 2 corresponding to which player wins, or 0 if draw. (You may find the `input` command useful: `a = input(\"Player 1 move\")`) \n",
    "\n",
    "Implement a Rock-Paper-Scissors game by soliciting input from 2 players, testing with this function.\n",
    "\n",
    "Remember the rules:\n",
    "\n",
    "- Rock beats scissors\n",
    "- Scissors beats paper\n",
    "- Paper beats rock"
   ]
  },
  {
   "cell_type": "code",
   "execution_count": 65,
   "metadata": {},
   "outputs": [],
   "source": [
    "# Write your function here\n",
    "def rps():\n",
    "    player1 = input(\"Player 1 move: \")\n",
    "    player2 = input(\"Player 2 move: \")\n",
    "\n",
    "    if player1 == player2:\n",
    "        print(\"Tie!\")\n",
    "    elif player1 == \"rock\":\n",
    "        if player2 == \"scissors\":\n",
    "            print(\"Player 1 wins!\")\n",
    "        else:\n",
    "            print(\"Player 2 wins!\")\n",
    "    elif player1 == \"paper\":\n",
    "        if player2 == \"rock\":\n",
    "            print(\"Player 1 wins!\")\n",
    "        else:\n",
    "            print(\"Player 2 wins!\")\n",
    "    elif player1 == \"scissors\":\n",
    "        if player2 == \"paper\":\n",
    "            print(\"Player 1 wins!\")\n",
    "        else:\n",
    "            print(\"Player 2 wins!\")\n",
    "    else:\n",
    "        print(\"Invalid move. Please enter 'rock', 'paper', or 'scissors'.\")\n"
   ]
  },
  {
   "cell_type": "code",
   "execution_count": 66,
   "metadata": {},
   "outputs": [
    {
     "name": "stdout",
     "output_type": "stream",
     "text": [
      "Player 1 move: rock\n",
      "Player 2 move: paper\n",
      "Player 2 wins!\n"
     ]
    }
   ],
   "source": [
    "# Test your function here (Note, you should test all possible cases for completeness)\n",
    "rps()"
   ]
  },
  {
   "cell_type": "code",
   "execution_count": null,
   "metadata": {},
   "outputs": [],
   "source": []
  }
 ],
 "metadata": {
  "kernelspec": {
   "display_name": "Python 3 (ipykernel)",
   "language": "python",
   "name": "python3"
  },
  "language_info": {
   "codemirror_mode": {
    "name": "ipython",
    "version": 3
   },
   "file_extension": ".py",
   "mimetype": "text/x-python",
   "name": "python",
   "nbconvert_exporter": "python",
   "pygments_lexer": "ipython3",
   "version": "3.9.7"
  }
 },
 "nbformat": 4,
 "nbformat_minor": 2
}
