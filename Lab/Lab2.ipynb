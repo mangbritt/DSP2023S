{
 "cells": [
  {
   "cell_type": "markdown",
   "id": "ae2f704c",
   "metadata": {},
   "source": [
    "### Problem 1: \n",
    "##Write a script that defines two strings: your first name and last name, and prints them in reverse order with a space between them.\n"
   ]
  },
  {
   "cell_type": "code",
   "execution_count": null,
   "id": "2ba190ca",
   "metadata": {},
   "outputs": [],
   "source": [
    "a = \"Britt\"\n",
    "b = \"Mang\"\n",
    "print(b, a)"
   ]
  },
  {
   "cell_type": "markdown",
   "id": "c4b929dd",
   "metadata": {},
   "source": [
    "### Problem 2: \n",
    "#Write a print command that displays the following (replace all my information with yours)\n",
    "\n",
    "#My name is Keaton Hamm\n",
    "#I am a Math major\n",
    "#------------------------\n",
    "#This is my Python string\n"
   ]
  },
  {
   "cell_type": "code",
   "execution_count": null,
   "id": "c158fef4",
   "metadata": {},
   "outputs": [],
   "source": [
    "print('My name is Britt Mang')\n",
    "print('I am a Data Science Major')\n",
    "print('----------------------')\n",
    "print('This is my python string')"
   ]
  },
  {
   "cell_type": "markdown",
   "id": "45540c58",
   "metadata": {},
   "source": [
    "### Problem 3:\n",
    "#Think about what the results would be for the following expressions, and then type them into the terminal to verify your answers. Briefly explain the results for each one.\n"
   ]
  },
  {
   "cell_type": "code",
   "execution_count": 15,
   "id": "323bc258",
   "metadata": {},
   "outputs": [
    {
     "name": "stdout",
     "output_type": "stream",
     "text": [
      "15.0\n"
     ]
    },
    {
     "data": {
      "text/plain": [
       "5"
      ]
     },
     "execution_count": 15,
     "metadata": {},
     "output_type": "execute_result"
    }
   ],
   "source": [
    "1/2 #Divides one by two and stores as float \n",
    "int(1/2) #Divides one by two and stores as integer\n",
    "int(9/10) #Divides 9 by 10 and stores as integer\n",
    "(-5**2) # returns X because ... it makes 5 squared and then is made negative\n",
    "(-5) ** 2  # Squares -5 itself\n",
    "10-6/2  #Goes by PEMDAS, divides 6 and 2 first then subtract from 10\n",
    "5*4/2*3 #Goes by PEMDAS, 5 times 4, divide by 2, multiply by 3\n",
    "5*4/2**2*3 #Goes by PEMDAS, 5 times 4, divided by 2 squared, multiply by 3\n",
    "2^10 #XOR operator, compares numbers in binary, sets outputs to 1 when one operand is 1 but not both."
   ]
  },
  {
   "cell_type": "markdown",
   "id": "05fa9864",
   "metadata": {},
   "source": [
    "## Problem 5:\n",
    "Define the list `x = [1,2,3,4,'a','b','c','d']`\n",
    "1. Use list indexing commands to print every other element of the list starting with 2\n",
    "1. Use list indexing commands to print every third element of the list starting at 'd' and going backward\n",
    "1. Use list indexing commands to print elements 4 through 'c'"
   ]
  },
  {
   "cell_type": "code",
   "execution_count": 22,
   "id": "5e972986",
   "metadata": {},
   "outputs": [
    {
     "name": "stdout",
     "output_type": "stream",
     "text": [
      "[1, 3, 'a', 'c']\n"
     ]
    }
   ],
   "source": [
    "#Part 1 solution\n",
    "x = [1,2,3,4,'a','b','c','d']\n",
    "y = x[::2]\n",
    "print(y)"
   ]
  },
  {
   "cell_type": "code",
   "execution_count": 29,
   "id": "4e4ec096",
   "metadata": {},
   "outputs": [
    {
     "name": "stdout",
     "output_type": "stream",
     "text": [
      "['d', 'a', 2]\n"
     ]
    }
   ],
   "source": [
    "#Part 2 solution\n",
    "x = [1,2,3,4,'a','b','c','d']\n",
    "y = x[7::-3]\n",
    "print(y)"
   ]
  },
  {
   "cell_type": "code",
   "execution_count": 31,
   "id": "3d09228d",
   "metadata": {},
   "outputs": [
    {
     "name": "stdout",
     "output_type": "stream",
     "text": [
      "[4, 'a', 'b', 'c']\n"
     ]
    }
   ],
   "source": [
    "# Your solution to part 3 here\n",
    "x = [1,2,3,4,'a','b','c','d']\n",
    "y = x[3:7:]\n",
    "print(y)"
   ]
  },
  {
   "cell_type": "code",
   "execution_count": null,
   "id": "237533d2",
   "metadata": {},
   "outputs": [],
   "source": []
  }
 ],
 "metadata": {
  "kernelspec": {
   "display_name": "Python 3 (ipykernel)",
   "language": "python",
   "name": "python3"
  },
  "language_info": {
   "codemirror_mode": {
    "name": "ipython",
    "version": 3
   },
   "file_extension": ".py",
   "mimetype": "text/x-python",
   "name": "python",
   "nbconvert_exporter": "python",
   "pygments_lexer": "ipython3",
   "version": "3.9.7"
  }
 },
 "nbformat": 4,
 "nbformat_minor": 5
}
