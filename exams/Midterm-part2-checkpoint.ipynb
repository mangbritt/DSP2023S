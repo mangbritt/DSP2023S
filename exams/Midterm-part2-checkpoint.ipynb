{
 "cells": [
  {
   "cell_type": "markdown",
   "id": "9913d12b",
   "metadata": {},
   "source": [
    " # <center>Midterm Exam &ndash; DATA 3401 (Spring 2023)</center>\n",
    "\n",
    "## Start Date: 3/27\n",
    "## Due Date for Exercises 1 and 2:    3/27 (at 2:15pm))\n",
    "## Due Date: for Exercises 3, 4 and 5:     23/29 (at 12:59pm))\n",
    "\n",
    "## Midterm Rules\n",
    "\n",
    "This midterm exam is essentially like a short-term lab. Please work the exercises below **on your own**.   \n",
    "\n",
    "**You should push your answer for Exercises 1 and 2 by the end of Monday's class, 3/27, at 2:15 pm in your GitHub repo for this class as **Midterm-part1** in the **Exam** folder. The rest of the exam is a take-home exam, and you have time up to Wednesday, 3/29, at 12:59. When you have completed the take-home exam, you should again push your completed jupyter notebook to your GitHub repo for this class as **Midterm-part2** in the **Exam** folder.\n",
    "\n",
    "\n",
    "You may not discuss the problems with **anyone else**, including persons on an online internet forum. Consulting an outside source like this will be considered an academic integrity violation.\n",
    "\n",
    "You may use all class resources including previous labs and lectures, and anything posted on the course webpage.\n",
    "\n",
    "You may not use any function that trivializes a problem. For example, if I ask you to write a `max` function that computes the maximum entry in a list, you are not allowed to use the pre-defined Python function `max`; you must write your own."
   ]
  },
  {
   "cell_type": "markdown",
   "id": "dbe7db65",
   "metadata": {},
   "source": [
    "## Exercise 1\n",
    "1. Write a script or function that asks the user to input 3 numbers (floats or ints), and output the product of the 3 numbers.\n",
    "    1. You may use the `input()` function to take user input, or you may write a function with 3 input arguments without using `input()`\n",
    "1. Your code should display an error message if one of the inputs is not a number.\n",
    "1. Test your code on the following inputs:  \n",
    "    1. (5, -10, 20.0)\n",
    "    1. (1, \"blah\", 5)"
   ]
  },
  {
   "cell_type": "code",
   "execution_count": null,
   "id": "52bc748d",
   "metadata": {},
   "outputs": [],
   "source": [
    "## Write your code here"
   ]
  },
  {
   "cell_type": "code",
   "execution_count": null,
   "id": "9c7e73ec",
   "metadata": {},
   "outputs": [],
   "source": [
    "## Test your code here"
   ]
  },
  {
   "cell_type": "markdown",
   "id": "82b8368e",
   "metadata": {},
   "source": [
    "## Exercise 2\n",
    "1. Write a function which takes a list as input and outputs the largest **integer** entry. If there is none, return `None`.\n",
    "1. Test your function on the following lists\n",
    "    1. \\[ 1, 9, 10.2, 6, -2\\]\n",
    "    1. \\[1.2, 3/4, \"Hello World\"\\]"
   ]
  },
  {
   "cell_type": "code",
   "execution_count": null,
   "id": "586c4abe",
   "metadata": {},
   "outputs": [],
   "source": [
    "# Write your function here"
   ]
  },
  {
   "cell_type": "code",
   "execution_count": null,
   "id": "c01d73b0",
   "metadata": {},
   "outputs": [],
   "source": [
    "# Test your function here"
   ]
  },
  {
   "cell_type": "markdown",
   "id": "78622bb6",
   "metadata": {},
   "source": [
    "## Exercise 3\n",
    "Suppose the first element of a sequence is $a_0 = 1$, the second element is $a_1 = 3$, and for every $i>1$, the $i$--th element of the sequence is defined by the recursive relation $a_i = \\frac{(a_{i-1}-a_{i-2})^2}{3}$. (So $a_2 = 4/3$)\n",
    "1. Write a function which outputs the $n$--th element of this sequence for a given positive integer $n$\n",
    "2. Test your function for $n = 1, 5, 10, 15,$ and $20$"
   ]
  },
  {
   "cell_type": "code",
   "execution_count": 9,
   "id": "ceed43f2",
   "metadata": {},
   "outputs": [],
   "source": [
    "# Write your function here\n",
    "def sequence(x):\n",
    "    if x == 0:\n",
    "        return 1\n",
    "    elif x == 1:\n",
    "        return 3\n",
    "    else:\n",
    "        return (((sequence(x-1)-sequence(x-2))**2)/3)"
   ]
  },
  {
   "cell_type": "code",
   "execution_count": 25,
   "id": "c8175e1d",
   "metadata": {
    "scrolled": true
   },
   "outputs": [
    {
     "data": {
      "text/plain": [
       "3.986380447622439e-09"
      ]
     },
     "execution_count": 25,
     "metadata": {},
     "output_type": "execute_result"
    }
   ],
   "source": [
    "## Test your function here\n",
    "sequence(10)"
   ]
  },
  {
   "cell_type": "markdown",
   "id": "5a9a5bdf",
   "metadata": {},
   "source": [
    "## Exercise 4\n",
    "1. Write a function that takes in a list of tuples, each of which contains three parts: `name, month, day` corresponding to a person's birthday, for example `('Tony Stark', 'March', 14)`. Your function should output `True` if any two people have the same birthday, and `False` if no two people have the same birthday.\n",
    "1. Test your function on the set of people `[('Thor', 'August',10), ('Phil Coulson','July',8),('T\\'Challa','November',29),('Peter Parker','August',10), ('Tony Stark', 'March', 14)]`\n",
    "1. Create your own list of people with all distinct birthdays and test your function on your list."
   ]
  },
  {
   "cell_type": "code",
   "execution_count": 12,
   "id": "1387950a",
   "metadata": {},
   "outputs": [],
   "source": [
    "# Write your functions here\n",
    "def samebirthdays(birthdays):\n",
    "    shared = set()\n",
    "    for name, month, day in birthdays:\n",
    "        birthday = (month, day)\n",
    "        if birthday in shared:\n",
    "            return True\n",
    "        else:\n",
    "            shared.add(birthday)\n",
    "    return False"
   ]
  },
  {
   "cell_type": "code",
   "execution_count": 23,
   "id": "e6036378",
   "metadata": {},
   "outputs": [
    {
     "data": {
      "text/plain": [
       "True"
      ]
     },
     "execution_count": 23,
     "metadata": {},
     "output_type": "execute_result"
    }
   ],
   "source": [
    "# Test your functions here\n",
    "birthdays = [('Thor', 'August',10), ('Phil Coulson','July',8),('T\\'Challa','November',29),('Peter Parker','August',10), ('Tony Stark', 'March', 14)]\n",
    "samebirthdays(birthdays)"
   ]
  },
  {
   "cell_type": "code",
   "execution_count": 24,
   "id": "d51d83ed",
   "metadata": {},
   "outputs": [
    {
     "data": {
      "text/plain": [
       "False"
      ]
     },
     "execution_count": 24,
     "metadata": {},
     "output_type": "execute_result"
    }
   ],
   "source": [
    "birthdays = [('Will', 'June', 21), (\"Van\", \"September\", 23), (\"Lian\", \"August\", 11), (\"John\", \"May\", 22), (\"Michael\", \"October\", 27)]\n",
    "samebirthdays(birthdays)"
   ]
  },
  {
   "cell_type": "markdown",
   "id": "a3e7a45b",
   "metadata": {},
   "source": [
    "## Exercise 5\n",
    "For this exercise, you are *not* allowed to use the `.replace()` function or a similar single string command to complete the exercise. For example, you could make a list of the input string and then use list manipulations to complete the task.\n",
    "\n",
    "1. Write a function or script that takes in two strings, and returns the first string minus all instances of the second string. You may assume the second string is a single character.  For example, an input of \"Hello World\" where \"l\" is removed should result in \"Heo Word\".\n",
    "1. Test your function by specifying \"i\" to be removed from \"Supercalifragilisticexpialidocious\"\n",
    "\n",
    "Bonus: Modify your function to allow the second string to be more than one characer. Test your new function by specifying \"data\" to be removed from \"data 3401 introduction to python for data science\". (This should result in ' 3401 introduction to python for  science'\n",
    "\n",
    "**Example:** if your function is called `replace_string(str1,str2)`, then for part 2 you should print `replace_string('Supercalifragilisticexpialidocious','i')` and for the bonus you should print `replace_string('data 3401 introduction to python for data science','data')`"
   ]
  },
  {
   "cell_type": "code",
   "execution_count": 26,
   "id": "6bbb5673",
   "metadata": {},
   "outputs": [],
   "source": [
    "# Write your function here\n",
    "def replace_string(str1,str2):\n",
    "    str3 = \"\"\n",
    "    for i in range(len(str1)):\n",
    "        if str1[i] != str2:\n",
    "            str3 +=str1[i]\n",
    "    return str3\n",
    "    "
   ]
  },
  {
   "cell_type": "code",
   "execution_count": 27,
   "id": "fbe320cb",
   "metadata": {},
   "outputs": [
    {
     "data": {
      "text/plain": [
       "'Supercalfraglstcexpaldocous'"
      ]
     },
     "execution_count": 27,
     "metadata": {},
     "output_type": "execute_result"
    }
   ],
   "source": [
    "# Test your function here\n",
    "replace_string('Supercalifragilisticexpialidocious','i')"
   ]
  },
  {
   "cell_type": "code",
   "execution_count": null,
   "id": "a2e0383c",
   "metadata": {},
   "outputs": [],
   "source": []
  }
 ],
 "metadata": {
  "kernelspec": {
   "display_name": "Python 3 (ipykernel)",
   "language": "python",
   "name": "python3"
  },
  "language_info": {
   "codemirror_mode": {
    "name": "ipython",
    "version": 3
   },
   "file_extension": ".py",
   "mimetype": "text/x-python",
   "name": "python",
   "nbconvert_exporter": "python",
   "pygments_lexer": "ipython3",
   "version": "3.9.7"
  }
 },
 "nbformat": 4,
 "nbformat_minor": 5
}
