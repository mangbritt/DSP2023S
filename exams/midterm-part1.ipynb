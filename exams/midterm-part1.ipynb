{
 "cells": [
  {
   "cell_type": "markdown",
   "id": "9913d12b",
   "metadata": {},
   "source": [
    " # <center>Midterm Exam &ndash; DATA 3401 (Spring 2023)</center>\n",
    "\n",
    "## Start Date: 3/27\n",
    "## Due Date for Exercises 1 and 2:    3/27 (at 2:15pm))\n",
    "## Due Date: for Exercises 3, 4 and 5:     23/29 (at 12:59pm))\n",
    "\n",
    "## Midterm Rules\n",
    "\n",
    "This midterm exam is essentially like a short-term lab. Please work the exercises below **on your own**.   \n",
    "\n",
    "**You should push your answer for Exercises 1 and 2 by the end of Monday's class, 3/27, at 2:15 pm in your GitHub repo for this class as **Midterm-part1** in the **Exam** folder. The rest of the exam is a take-home exam, and you have time up to Wednesday, 3/29, at 12:59. When you have completed the take-home exam, you should again push your completed jupyter notebook to your GitHub repo for this class as **Midterm-part2** in the **Exam** folder.\n",
    "\n",
    "\n",
    "You may not discuss the problems with **anyone else**, including persons on an online internet forum. Consulting an outside source like this will be considered an academic integrity violation.\n",
    "\n",
    "You may use all class resources including previous labs and lectures, and anything posted on the course webpage.\n",
    "\n",
    "You may not use any function that trivializes a problem. For example, if I ask you to write a `max` function that computes the maximum entry in a list, you are not allowed to use the pre-defined Python function `max`; you must write your own."
   ]
  },
  {
   "cell_type": "markdown",
   "id": "dbe7db65",
   "metadata": {},
   "source": [
    "## Exercise 1\n",
    "1. Write a script or function that asks the user to input 3 numbers (floats or ints), and output the product of the 3 numbers.\n",
    "    1. You may use the `input()` function to take user input, or you may write a function with 3 input arguments without using `input()`\n",
    "1. Your code should display an error message if one of the inputs is not a number.\n",
    "1. Test your code on the following inputs:  \n",
    "    1. (5, -10, 20.0)\n",
    "    1. (1, \"blah\", 5)"
   ]
  },
  {
   "cell_type": "code",
   "execution_count": 41,
   "id": "52bc748d",
   "metadata": {
    "scrolled": true
   },
   "outputs": [
    {
     "name": "stdout",
     "output_type": "stream",
     "text": [
      "Enter a number: 1\n",
      "Enter a number: blah\n",
      "Invalid input\n",
      "Enter a number: 1\n",
      "1\n"
     ]
    }
   ],
   "source": [
    "## Write your code here\n",
    "lst = []\n",
    "result = 1\n",
    "for i in range(3):\n",
    "    try:\n",
    "        ele = float(input(\"Enter a number: \"))\n",
    "        lst.append(ele)\n",
    "        result *= ele\n",
    "    except ValueError:\n",
    "        print(\"Invalid input\")\n",
    "        exit()\n",
    "print(int(result))\n"
   ]
  },
  {
   "cell_type": "code",
   "execution_count": 28,
   "id": "9c7e73ec",
   "metadata": {},
   "outputs": [],
   "source": [
    "## Test your code here"
   ]
  },
  {
   "cell_type": "markdown",
   "id": "82b8368e",
   "metadata": {},
   "source": [
    "# Exercise 2\n",
    "1. Write a function which takes a list as input and outputs the largest **integer** entry. If there is none, return `None`.\n",
    "1. Test your function on the following lists\n",
    "    1. \\[ 1, 9, 10.2, 6, -2\\]\n",
    "    1. \\[1.2, 3/4, \"Hello World\"\\]"
   ]
  },
  {
   "cell_type": "code",
   "execution_count": 2,
   "id": "586c4abe",
   "metadata": {},
   "outputs": [],
   "source": [
    "# Write your function here\n",
    "def largestint(lst):\n",
    "    max_int = None\n",
    "    for elem in lst:\n",
    "        if isinstance(elem, int) and (max_int is None or elem > max_int):\n",
    "            max_int = elem\n",
    "    if max_int == None:\n",
    "        print(\"none\")\n",
    "    return max_int\n"
   ]
  },
  {
   "cell_type": "code",
   "execution_count": 3,
   "id": "c01d73b0",
   "metadata": {},
   "outputs": [
    {
     "name": "stdout",
     "output_type": "stream",
     "text": [
      "none\n"
     ]
    }
   ],
   "source": [
    "# Test your function here\n",
    "x = [1.2, 3/4, \"hello world\"]\n",
    "largestint(x)"
   ]
  },
  {
   "cell_type": "markdown",
   "id": "78622bb6",
   "metadata": {},
   "source": [
    "## Exercise 3\n",
    "Suppose the first element of a sequence is $a_0 = 1$, the second element is $a_1 = 3$, and for every $i>1$, the $i$--th element of the sequence is defined by the recursive relation $a_i = \\frac{(a_{i-1}-a_{i-2})^2}{3}$. (So $a_2 = 4/3$)\n",
    "1. Write a function which outputs the $n$--th element of this sequence for a given positive integer $n$\n",
    "2. Test your function for $n = 1, 5, 10, 15,$ and $20$"
   ]
  },
  {
   "cell_type": "code",
   "execution_count": null,
   "id": "ceed43f2",
   "metadata": {},
   "outputs": [],
   "source": [
    "# Write your function here"
   ]
  },
  {
   "cell_type": "code",
   "execution_count": null,
   "id": "734307f2",
   "metadata": {},
   "outputs": [],
   "source": [
    "# Test your function here"
   ]
  },
  {
   "cell_type": "markdown",
   "id": "5a9a5bdf",
   "metadata": {},
   "source": [
    "## Exercise 4\n",
    "1. Write a function that takes in a list of tuples, each of which contains three parts: `name, month, day` corresponding to a person's birthday, for example `('Tony Stark', 'March', 14)`. Your function should output `True` if any two people have the same birthday, and `False` if no two people have the same birthday.\n",
    "1. Test your function on the set of people `[('Thor', 'August',10), ('Phil Coulson','July',8),('T\\'Challa','November',29),('Peter Parker','August',10), ('Tony Stark', 'March', 14)]`\n",
    "1. Create your own list of people with all distinct birthdays and test your function on your list."
   ]
  },
  {
   "cell_type": "code",
   "execution_count": null,
   "id": "1387950a",
   "metadata": {},
   "outputs": [],
   "source": [
    "# Write your functions here"
   ]
  },
  {
   "cell_type": "code",
   "execution_count": null,
   "id": "e6036378",
   "metadata": {},
   "outputs": [],
   "source": [
    "# Test your functions here"
   ]
  },
  {
   "cell_type": "markdown",
   "id": "a3e7a45b",
   "metadata": {},
   "source": [
    "## Exercise 5\n",
    "For this exercise, you are *not* allowed to use the `.replace()` function or a similar single string command to complete the exercise. For example, you could make a list of the input string and then use list manipulations to complete the task.\n",
    "\n",
    "1. Write a function or script that takes in two strings, and returns the first string minus all instances of the second string. You may assume the second string is a single character.  For example, an input of \"Hello World\" where \"l\" is removed should result in \"Heo Word\".\n",
    "1. Test your function by specifying \"i\" to be removed from \"Supercalifragilisticexpialidocious\"\n",
    "\n",
    "Bonus: Modify your function to allow the second string to be more than one characer. Test your new function by specifying \"data\" to be removed from \"data 3401 introduction to python for data science\". (This should result in ' 3401 introduction to python for  science'\n",
    "\n",
    "**Example:** if your function is called `replace_string(str1,str2)`, then for part 2 you should print `replace_string('Supercalifragilisticexpialidocious','i')` and for the bonus you should print `replace_string('data 3401 introduction to python for data science','data')`"
   ]
  },
  {
   "cell_type": "code",
   "execution_count": null,
   "id": "6bbb5673",
   "metadata": {},
   "outputs": [],
   "source": [
    "# Write your function here"
   ]
  },
  {
   "cell_type": "code",
   "execution_count": null,
   "id": "fbe320cb",
   "metadata": {},
   "outputs": [],
   "source": [
    "# Test your function here"
   ]
  }
 ],
 "metadata": {
  "kernelspec": {
   "display_name": "Python 3 (ipykernel)",
   "language": "python",
   "name": "python3"
  },
  "language_info": {
   "codemirror_mode": {
    "name": "ipython",
    "version": 3
   },
   "file_extension": ".py",
   "mimetype": "text/x-python",
   "name": "python",
   "nbconvert_exporter": "python",
   "pygments_lexer": "ipython3",
   "version": "3.9.13"
  }
 },
 "nbformat": 4,
 "nbformat_minor": 5
}
