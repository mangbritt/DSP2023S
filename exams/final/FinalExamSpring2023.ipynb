{
 "cells": [
  {
   "cell_type": "markdown",
   "id": "6b15cca1",
   "metadata": {},
   "source": [
    " # <center>Final Exam &ndash; DATA 3401 (Spring 2023)</center>\n",
    "\n",
    "## Start Date: 5/5\n",
    "## Due Date: 5/8 (at 11:59pm) &ndash; this is a hard deadline so don't miss it!\n",
    "\n",
    "## Final Rules\n",
    "This final exam is simliar to the midterm exam. Please work the exercises below **on your own**.  When you have completed the exam, you should push your completed jupyter notebook to your GitHub repo for this class in the **Exams->Final** folder.\n",
    "\n",
    "You may not discuss the problems with **anyone else**, including persons on an online internet forum. Consulting an outside source like this will be considered an academic integrity violation. **Any questions should be referred to me.**\n",
    "\n",
    "You may use all class resources including previous labs and lectures, and anything posted on the course website or Teams.\n",
    "\n",
    "You may not use any function that trivializes a problem. For example, if I ask you to write a `max` function that computes the maximum entry in a list, you are not allowed to use the pre-defined Python function `max`; you must write your own.\n",
    "\n"
   ]
  },
  {
   "cell_type": "markdown",
   "id": "6a8e04e0",
   "metadata": {},
   "source": [
    "## Exercise 1 (25 points)\n",
    "In this exercise you will be working with the files abalone.names and abalone.data in the Final Exam folder.\n",
    "\n",
    "1. Open the abalone.names file in your notebook. Using the information there, in a new cell briefly describe the data set and relevant features.\n",
    "1. Load the abalone.data file into a dataframe using pandas. Print the .head() of the dataframe\n",
    "1. Using the .names file, **add** a header line to your dataframe describing each column of data\n",
    "1. Take the last column and make a new dataframe called `labels`\n",
    "    1. Print out the value counts of each label.\n",
    "    1. What do you notice about the distribution of the labels?\n",
    "    1. Based on your observations, propose a way to modify the labels to consolidate some of the classes, and do this modification (you should describe in comments in your code what change you are making)\n",
    "    1. After making your modification, show the value counts of the new labels again\n",
    "1. Make a scatterplot of each feature against the others (it should be a single plot)\n",
    "    1. Describe any trends or correlations that you see.\n"
   ]
  },
  {
   "cell_type": "code",
   "execution_count": 4,
   "id": "93582ab2",
   "metadata": {},
   "outputs": [
    {
     "name": "stdout",
     "output_type": "stream",
     "text": [
      "1. Title of Database: Abalone data\n",
      "\n",
      "2. Sources:\n",
      "\n",
      "   (a) Original owners of database:\n",
      "\tMarine Resources Division\n",
      "\tMarine Research Laboratories - Taroona\n",
      "\tDepartment of Primary Industry and Fisheries, Tasmania\n",
      "\tGPO Box 619F, Hobart, Tasmania 7001, Australia\n",
      "\t(contact: Warwick Nash +61 02 277277, wnash@dpi.tas.gov.au)\n",
      "\n",
      "   (b) Donor of database:\n",
      "\tSam Waugh (Sam.Waugh@cs.utas.edu.au)\n",
      "\tDepartment of Computer Science, University of Tasmania\n",
      "\tGPO Box 252C, Hobart, Tasmania 7001, Australia\n",
      "\n",
      "   (c) Date received: December 1995\n",
      "\n",
      "\n",
      "3. Past Usage:\n",
      "\n",
      "   Sam Waugh (1995) \"Extending and benchmarking Cascade-Correlation\", PhD\n",
      "   thesis, Computer Science Department, University of Tasmania.\n",
      "\n",
      "   -- Test set performance (final 1044 examples, first 3133 used for training):\n",
      "\t24.86% Cascade-Correlation (no hidden nodes)\n",
      "\t26.25% Cascade-Correlation (5 hidden nodes)\n",
      "\t21.5%  C4.5\n",
      "\t 0.0%  Linear Discriminate Analysis\n",
      "\t 3.57% k=5 Nearest Neighbour\n",
      "      (Problem encoded as a classification task)\n",
      "\n",
      "   -- Data set samples are highly overlapped.  Further information is required\n",
      "\tto separate completely using affine combinations.  Other restrictions\n",
      "\tto data set examined.\n",
      "\n",
      "   David Clark, Zoltan Schreter, Anthony Adams \"A Quantitative Comparison of\n",
      "   Dystal and Backpropagation\", submitted to the Australian Conference on\n",
      "   Neural Networks (ACNN'96). Data set treated as a 3-category classification\n",
      "   problem (grouping ring classes 1-8, 9 and 10, and 11 on).\n",
      "\n",
      "   -- Test set performance (3133 training, 1044 testing as above):\n",
      "\t64%    Backprop\n",
      "\t55%    Dystal\n",
      "   -- Previous work (Waugh, 1995) on same data set:\n",
      "\t61.40% Cascade-Correlation (no hidden nodes)\n",
      "\t65.61% Cascade-Correlation (5 hidden nodes)\n",
      "\t59.2%  C4.5\n",
      "\t32.57% Linear Discriminate Analysis\n",
      "\t62.46% k=5 Nearest Neighbour\n",
      "\n",
      "\n",
      "4. Relevant Information Paragraph:\n",
      "\n",
      "   Predicting the age of abalone from physical measurements.  The age of\n",
      "   abalone is determined by cutting the shell through the cone, staining it,\n",
      "   and counting the number of rings through a microscope -- a boring and\n",
      "   time-consuming task.  Other measurements, which are easier to obtain, are\n",
      "   used to predict the age.  Further information, such as weather patterns\n",
      "   and location (hence food availability) may be required to solve the problem.\n",
      "\n",
      "   From the original data examples with missing values were removed (the\n",
      "   majority having the predicted value missing), and the ranges of the\n",
      "   continuous values have been scaled for use with an ANN (by dividing by 200).\n",
      "\n",
      "   Data comes from an original (non-machine-learning) study:\n",
      "\n",
      "\tWarwick J Nash, Tracy L Sellers, Simon R Talbot, Andrew J Cawthorn and\n",
      "\tWes B Ford (1994) \"The Population Biology of Abalone (_Haliotis_\n",
      "\tspecies) in Tasmania. I. Blacklip Abalone (_H. rubra_) from the North\n",
      "\tCoast and Islands of Bass Strait\", Sea Fisheries Division, Technical\n",
      "\tReport No. 48 (ISSN 1034-3288)\n",
      "\n",
      "\n",
      "5. Number of Instances: 4177\n",
      "\n",
      "\n",
      "6. Number of Attributes: 8\n",
      "\n",
      "\n",
      "7. Attribute information:\n",
      "\n",
      "   Given is the attribute name, attribute type, the measurement unit and a\n",
      "   brief description.  The number of rings is the value to predict: either\n",
      "   as a continuous value or as a classification problem.\n",
      "\n",
      "\tName\t\tData Type\tMeas.\tDescription\n",
      "\t----\t\t---------\t-----\t-----------\n",
      "\tSex\t\tnominal\t\t\tM, F, and I (infant)\n",
      "\tLength\t\tcontinuous\tmm\tLongest shell measurement\n",
      "\tDiameter\tcontinuous\tmm\tperpendicular to length\n",
      "\tHeight\t\tcontinuous\tmm\twith meat in shell\n",
      "\tWhole weight\tcontinuous\tgrams\twhole abalone\n",
      "\tShucked weight\tcontinuous\tgrams\tweight of meat\n",
      "\tViscera weight\tcontinuous\tgrams\tgut weight (after bleeding)\n",
      "\tShell weight\tcontinuous\tgrams\tafter being dried\n",
      "\tRings\t\tinteger\t\t\t+1.5 gives the age in years\n",
      "\n",
      "   Statistics for numeric domains:\n",
      "\n",
      "\t\tLength\tDiam\tHeight\tWhole\tShucked\tViscera\tShell\tRings\n",
      "\tMin\t0.075\t0.055\t0.000\t0.002\t0.001\t0.001\t0.002\t    1\n",
      "\tMax\t0.815\t0.650\t1.130\t2.826\t1.488\t0.760\t1.005\t   29\n",
      "\tMean\t0.524\t0.408\t0.140\t0.829\t0.359\t0.181\t0.239\t9.934\n",
      "\tSD\t0.120\t0.099\t0.042\t0.490\t0.222\t0.110\t0.139\t3.224\n",
      "\tCorrel\t0.557\t0.575\t0.557\t0.540\t0.421\t0.504\t0.628\t  1.0\n",
      "\n",
      "\n",
      "8. Missing Attribute Values: None\n",
      "\n",
      "\n",
      "9. Class Distribution:\n",
      "\n",
      "\tClass\tExamples\n",
      "\t-----\t--------\n",
      "\t1\t1\n",
      "\t2\t1\n",
      "\t3\t15\n",
      "\t4\t57\n",
      "\t5\t115\n",
      "\t6\t259\n",
      "\t7\t391\n",
      "\t8\t568\n",
      "\t9\t689\n",
      "\t10\t634\n",
      "\t11\t487\n",
      "\t12\t267\n",
      "\t13\t203\n",
      "\t14\t126\n",
      "\t15\t103\n",
      "\t16\t67\n",
      "\t17\t58\n",
      "\t18\t42\n",
      "\t19\t32\n",
      "\t20\t26\n",
      "\t21\t14\n",
      "\t22\t6\n",
      "\t23\t9\n",
      "\t24\t2\n",
      "\t25\t1\n",
      "\t26\t1\n",
      "\t27\t2\n",
      "\t29\t1\n",
      "\t-----\t----\n",
      "\tTotal\t4177\n",
      "\n"
     ]
    }
   ],
   "source": [
    "## Write your code here\n",
    "f = open(\"abalone.names\",'r')\n",
    "print(f.read())"
   ]
  },
  {
   "cell_type": "code",
   "execution_count": null,
   "id": "861860cd",
   "metadata": {},
   "outputs": [],
   "source": [
    "#The data set measures abalone through many features to predict the age, primarily from rings in the shell. Other features \n",
    "#include sex, length, diameter, height, whole weight, shucked weight, gut weight and shell weight."
   ]
  },
  {
   "cell_type": "code",
   "execution_count": 61,
   "id": "12c7de6a",
   "metadata": {
    "scrolled": true
   },
   "outputs": [
    {
     "name": "stdout",
     "output_type": "stream",
     "text": [
      "Class Distribution\n",
      "------------------\n",
      "(0, 5]: \t5\n",
      "(5, 10]: \t0\n",
      "(10, 15]: \t0\n",
      "(15, 20]: \t0\n",
      "(20, 25]: \t0\n",
      "(25, 29]: \t0\n"
     ]
    }
   ],
   "source": [
    "import pandas as pd\n",
    "\n",
    "# Load data and add column names\n",
    "ab_data = pd.read_csv(\"abalone.data\", header=None)\n",
    "ab_data.columns = ['Sex', 'Length', 'Diameter', 'Height', 'Whole Weight', 'Shucked Weight', 'Viscera Weight', 'Shell Weight', 'Rings']\n",
    "\n",
    "\n",
    "ab_data['Class Range'] = pd.cut(count, bins=[0, 5, 10, 15, 20, 25, 29])\n",
    "\n",
    "# Count the number of examples in each range\n",
    "count = ab_data['Class Range'].value_counts().sort_index()\n",
    "\n",
    "# Display the distribution\n",
    "print(\"Class Distribution\")\n",
    "print(\"------------------\")\n",
    "for i in range(len(count)):\n",
    "    label = count.index[i]\n",
    "    examples = count.values[i]\n",
    "    print(\"{}: \\t{}\".format(label, examples))\n"
   ]
  },
  {
   "cell_type": "markdown",
   "id": "b1532366",
   "metadata": {},
   "source": [
    "## Exercise 2: (20 points)\n",
    "\n",
    "\n",
    "Consider that a person is standing on the real line at a given point $x_0$. The person then goes on a \"random walk\", meaning that they first take a step of size 1 in a random direction (so after this step they are either standing at $x_0+1$ or $x_0-1$), then they take another step of size 1 in a random direction (after the second step they are standing at one of $x_0-2,  x_0, $ or  $x_0+2$), and they continue this process for $n$ steps. At each stage, the person flips a fair coin to decide which direction to go in.\n",
    "1. Write a function `RandomWalk(num_steps,start_position)`, that takes the number of steps `num_steps` for a random walk and the `start_position` of the random walk on the real line (so a float), and returns the location of the final step of the random walker.\n",
    "2. Write another function `SimulateRandomWalk(num_sims,num_steps,start_position)` that simulates num_sims number of random walks, each of which contains `num_steps` steps and starts at `start_position`. Then, this function calls `RandomWalk()` repeatedly for `num_sims` times and finally returns a vector of size `num_sim` containing the final locations of all of the `num_sims` simulated random-walks.\n",
    "3. Now write a script that plots the output of `SimulateRandomWalk(num_sims = 10000, num_steps = 100, start_position = 0)` in a histogram\n",
    "4. Repeat step 3 for `num_steps` = 1000, 5000\n"
   ]
  },
  {
   "cell_type": "code",
   "execution_count": 12,
   "id": "668f8f67",
   "metadata": {},
   "outputs": [
    {
     "data": {
      "image/png": "[encoded data removed]",
      "text/plain": [
       "<Figure size 432x288 with 1 Axes>"
      ]
     },
     "metadata": {
      "needs_background": "light"
     },
     "output_type": "display_data"
    }
   ],
   "source": [
    "## Write your code here\n",
    "import random\n",
    "import numpy as np\n",
    "import matplotlib.pyplot as plt\n",
    "\n",
    "def RandomWalk(num_steps, start_position):\n",
    "    position = start_position\n",
    "    for i in range(num_steps):\n",
    "        direction = random.choice([-1, 1])\n",
    "        position += direction\n",
    "    return position\n",
    "\n",
    "def SimulateRandomWalk(num_sims, num_steps, start_position):\n",
    "    final_positions = []\n",
    "    for i in range(num_sims):\n",
    "        final_position = RandomWalk(num_steps, start_position)\n",
    "        final_positions.append(final_position)\n",
    "    return np.array(final_positions)\n",
    "\n",
    "# Simulate random walks and plot histograms\n",
    "num_sims = 10000\n",
    "start_position = 0\n",
    "for num_steps in [100, 1000, 5000]:\n",
    "    final_positions = SimulateRandomWalk(num_sims, num_steps, start_position)\n",
    "    plt.hist(final_positions, bins=20, density=True, alpha=0.5, label=f'Num Steps = {num_steps}')\n",
    "plt.legend()\n",
    "plt.title(f'Histogram of Final Positions After {num_sims} Random Walks')\n",
    "plt.xlabel('Final Position')\n",
    "plt.ylabel('Density')\n",
    "plt.show()\n"
   ]
  },
  {
   "cell_type": "markdown",
   "id": "9ad7c04c",
   "metadata": {},
   "source": [
    "## Exercise 4: (15 Points)\n",
    "\n",
    "Consider the problem of projectile motion that we solved in class and we calculated the **height** of the motion (or in the Y-direction). Here is the class we defined for the projectile, (**Note** I renamed the **getHieght** method (function) to **getLocY**, which is a *method* (a function) to calculate the Y-component of the location):"
   ]
  },
  {
   "cell_type": "code",
   "execution_count": 13,
   "id": "52ee81a8",
   "metadata": {},
   "outputs": [],
   "source": [
    "class ProjLocY():  \n",
    "    def __init__(self, velInitY, g = 9.8):  \n",
    "        self.velInitY = velInitY # initial velocity along the y direction.  \n",
    "        self.gravityConstant = g # gravityConstant, 9.81 on earth.  \n",
    "    def getLocY(self, time):  \n",
    "        \"\"\"  \n",
    "        Return the location of the projectile at the specific given `time` and initial velocity.  \n",
    "        Input  \n",
    "            time    :   An input real (float) representing the time  \n",
    "                        past since the start of the projectile motion.  \n",
    "        \"\"\"  \n",
    "        return self.velInitY * time - 0.5 * self.gravityConstant * time**2  \n",
    "    \n",
    "    def evaluate(self, time): \n",
    "        return self.getLocY(time)  "
   ]
  },
  {
   "cell_type": "markdown",
   "id": "5673ca7a",
   "metadata": {},
   "source": [
    "1. Now, define a similar class for projectile motion in the x direction.\n",
    "(Note: Recall the projectile motion along the x direction does not involve acceleration.)\n",
    "\n",
    "1. Define a subclass that inherits the properties of the projectiles in x and y directions from the corresponding super (parent) classes (```ProjLocX``` and ```ProjLocY```).\n",
    "\n",
    "1. In addition to the inherited methods (functions), this new subclass must contain a ```evaluate(self, time)``` method which computes and returns the location (x,y) of the projectile by calling and aggregating information from the corresponding methods of the parent classes ```getLocX(time)``` and ```getLocY(time)```.\n",
    "\n",
    "1. Compute and return the location of the projectile in X-Y plane for initial velocities (10, 10) meters / sec at time 1 sec since the start of the projectile.\n"
   ]
  },
  {
   "cell_type": "code",
   "execution_count": 15,
   "id": "33135bac",
   "metadata": {},
   "outputs": [
    {
     "name": "stdout",
     "output_type": "stream",
     "text": [
      "(10, 10.0)\n"
     ]
    }
   ],
   "source": [
    "# Write your code here\n",
    "class ProjLocX:\n",
    "    def __init__(self, init_vel_x, init_pos_x):\n",
    "        self.init_vel_x = init_vel_x\n",
    "        self.init_pos_x = init_pos_x\n",
    "    \n",
    "    def getLocX(self, time):\n",
    "        return self.init_pos_x + self.init_vel_x * time\n",
    "    \n",
    "class ProjLocXY(ProjLocX, ProjLocY):\n",
    "    def __init__(self, init_vel_x, init_pos_x, init_vel_y, init_pos_y):\n",
    "        ProjLocX.__init__(self, init_vel_x, init_pos_x)\n",
    "        ProjLocY.__init__(self, init_vel_y, init_pos_y)\n",
    "        \n",
    "    def evaluate(self, time):\n",
    "        x = self.getLocX(time)\n",
    "        y = self.getLocY(time)\n",
    "        return (x, y)\n",
    "\n",
    "proj = ProjLocXY(10, 0, 10, 0)\n",
    "location = proj.evaluate(1)\n",
    "print(location)"
   ]
  },
  {
   "cell_type": "markdown",
   "id": "ad0e2e8e",
   "metadata": {},
   "source": [
    "## Bonus Exercise: (30 points)\n",
    "If you invest a principal value of $P$ at time 0, and interest is continuously compounded at a rate $r$ (between 0 and 1), then the amount of money you would have after $t$ years is\n",
    "$$M(t) = Pe^{rt}.$$\n",
    "Fry has \\\\$0.01 in his bank account, but is accidentally transported 1,000 years into the future. He returns to his bank (which luckily still exists) to see how much money he now has. Assume Fry's account earns continuously compounded interest at a rate of 5\\% (or $r=0.05$).\n",
    "1. Create a numpy array of time from 0 to 1,000 years increasing by 1 year\n",
    "1. Create a new numpy array that calculates how much money Fry's account has at each year\n",
    "1. Plot Fry's money over the given timeframe\n",
    "\n",
    "\n",
    "Now if Fry only earned simple interest, the amount of money he would have after $t$ years would be\n",
    "$$ S(t) = P(1+rt).$$\n",
    "\n",
    "1. Perform the same procedure as steps 1-3 above assuming Fry earns 5\\% simple interest.\n",
    "1. To illustrate the difference, also plot $M(t)-S(t)$ over the timeframe.\n",
    "1. What do you conclude?\n",
    "\n",
    "*Aside:* This problem, while silly, should teach you an important lesson: invest your money as early as you possibly can!"
   ]
  },
  {
   "cell_type": "code",
   "execution_count": 62,
   "id": "68ef8f09",
   "metadata": {},
   "outputs": [
    {
     "data": {
      "image/png": "[encoded data removed]",
      "text/plain": [
       "<Figure size 432x288 with 1 Axes>"
      ]
     },
     "metadata": {
      "needs_background": "light"
     },
     "output_type": "display_data"
    }
   ],
   "source": [
    "## Write your code here\n",
    "import numpy as np\n",
    "import matplotlib.pyplot as plt\n",
    "\n",
    "# Set initial values\n",
    "initial_balance = 0.01\n",
    "interest_rate = 0.05\n",
    "\n",
    "# Create array of time from 0 to 1000 years in increments of 1 year\n",
    "time = np.arange(0, 1001, 1)\n",
    "\n",
    "# Calculate the balance at each year using the formula for continuous compounding\n",
    "balance = initial_balance * np.exp(interest_rate * time)\n",
    "\n",
    "# Plot the results\n",
    "plt.plot(time, balance)\n",
    "plt.xlabel(\"Time (years)\")\n",
    "plt.ylabel(\"Balance ($)\")\n",
    "plt.title(\"Fry's Bank Account Balance over Time\")\n",
    "plt.show()"
   ]
  },
  {
   "cell_type": "code",
   "execution_count": 65,
   "id": "e997fc52",
   "metadata": {},
   "outputs": [
    {
     "data": {
      "image/png": "[encoded data removed]",
      "text/plain": [
       "<Figure size 432x288 with 1 Axes>"
      ]
     },
     "metadata": {
      "needs_background": "light"
     },
     "output_type": "display_data"
    },
    {
     "data": {
      "image/png": "[encoded data removed]",
      "text/plain": [
       "<Figure size 432x288 with 1 Axes>"
      ]
     },
     "metadata": {
      "needs_background": "light"
     },
     "output_type": "display_data"
    }
   ],
   "source": [
    "import numpy as np\n",
    "import matplotlib.pyplot as plt\n",
    "\n",
    "# Step 1: Create array of time from 0 to 1000 years\n",
    "t = np.arange(0, 1001)\n",
    "\n",
    "# Step 2: Calculate Fry's money at each year with simple interest\n",
    "P = 0.01\n",
    "r = 0.05\n",
    "M = P * (1 + r * t)\n",
    "\n",
    "# Step 3: Plot Fry's money over time\n",
    "plt.plot(t, M)\n",
    "plt.title(\"Fry's Money with Simple Interest\")\n",
    "plt.xlabel(\"Time (years)\")\n",
    "plt.ylabel(\"Amount ($)\")\n",
    "plt.show()\n",
    "\n",
    "# Step 4: Plot difference between Fry's money with continuous vs. simple interest\n",
    "plt.plot(t, balance - M)\n",
    "plt.title(\"Difference between Fry's Money with Continuous vs. Simple Interest\")\n",
    "plt.xlabel(\"Time (years)\")\n",
    "plt.ylabel(\"Amount ($)\")\n",
    "plt.show()\n"
   ]
  },
  {
   "cell_type": "code",
   "execution_count": null,
   "id": "d5ed8444",
   "metadata": {},
   "outputs": [],
   "source": []
  }
 ],
 "metadata": {
  "kernelspec": {
   "display_name": "Python 3 (ipykernel)",
   "language": "python",
   "name": "python3"
  },
  "language_info": {
   "codemirror_mode": {
    "name": "ipython",
    "version": 3
   },
   "file_extension": ".py",
   "mimetype": "text/x-python",
   "name": "python",
   "nbconvert_exporter": "python",
   "pygments_lexer": "ipython3",
   "version": "3.9.7"
  }
 },
 "nbformat": 4,
 "nbformat_minor": 5
}
