{
 "cells": [
  {
   "cell_type": "code",
   "execution_count": 2,
   "id": "c2fd98b7",
   "metadata": {},
   "outputs": [
    {
     "name": "stdout",
     "output_type": "stream",
     "text": [
      "0.17603266338214976\n"
     ]
    }
   ],
   "source": [
    "import math\n",
    "\n",
    "def gaussian_probability(x, mu, sig):\n",
    "    return (1.0 / (sig * math.sqrt(2*math.pi))) * math.exp(-0.5*((x-mu)/sig)**2)\n",
    "\n",
    "mu = 0\n",
    "sig = 2\n",
    "x = 1\n",
    "\n",
    "result = gaussian_probability(x, mu, sig)\n",
    "\n",
    "print(result)\n"
   ]
  },
  {
   "cell_type": "code",
   "execution_count": 3,
   "id": "558fb2b5",
   "metadata": {},
   "outputs": [],
   "source": [
    "def is_even(num):\n",
    "    return num % 2 == 0\n"
   ]
  },
  {
   "cell_type": "code",
   "execution_count": 6,
   "id": "200f9757",
   "metadata": {},
   "outputs": [
    {
     "data": {
      "text/plain": [
       "True"
      ]
     },
     "execution_count": 6,
     "metadata": {},
     "output_type": "execute_result"
    }
   ],
   "source": [
    "is_even(3)\n",
    "is_even(4)"
   ]
  },
  {
   "cell_type": "code",
   "execution_count": 17,
   "id": "cc5cabc6",
   "metadata": {},
   "outputs": [
    {
     "name": "stdout",
     "output_type": "stream",
     "text": [
      "Enter an integer number: 9\n",
      "4\n"
     ]
    }
   ],
   "source": [
    "def isPrime():\n",
    "    n = int(input(\"Enter an integer number: \"))\n",
    "    count = 0\n",
    "    for num in range(2, n):\n",
    "        prime = True\n",
    "        for i in range(2, num):\n",
    "            if num % i == 0:\n",
    "                prime = False\n",
    "                break\n",
    "        if prime:\n",
    "            count += 1\n",
    "    print(count)\n",
    "\n",
    "isPrime()"
   ]
  },
  {
   "cell_type": "code",
   "execution_count": 19,
   "id": "0ff71be2",
   "metadata": {},
   "outputs": [
    {
     "name": "stdout",
     "output_type": "stream",
     "text": [
      "Time taken for n = 1000: 0.016384 seconds\n"
     ]
    }
   ],
   "source": [
    "import timeit\n",
    "\n",
    "def isPrime(n):\n",
    "    \n",
    "    isPrime = True\n",
    "    \n",
    "    def is_divisible(n,divisor):\n",
    "        if n<(divisor-1)*divisor: return False\n",
    "        if n%divisor==0: return True\n",
    "        else:\n",
    "            divisor += 1\n",
    "            return is_divisible(n,divisor)\n",
    "\n",
    "    if n==2:\n",
    "        isPrime = True\n",
    "    elif is_divisible(n,divisor=2):\n",
    "        isPrime = False\n",
    "    return isPrime\n",
    "\n",
    "def getNumPrimes(n):\n",
    "    if n <= 2:\n",
    "        return 0\n",
    "    else:\n",
    "        return isPrime(n-1) + getNumPrimes(n-1)\n",
    "n = 1000\n",
    "t = timeit.timeit(lambda: getNumPrimes(n), number=10)\n",
    "print(f\"Time taken for n = {n}: {t:.6f} seconds\")"
   ]
  },
  {
   "cell_type": "code",
   "execution_count": 20,
   "id": "61148092",
   "metadata": {},
   "outputs": [
    {
     "name": "stdout",
     "output_type": "stream",
     "text": [
      "Time taken for n = 1000: 0.014858 seconds\n"
     ]
    }
   ],
   "source": [
    "import timeit\n",
    "\n",
    "def isPrime_For(n):\n",
    "    \n",
    "    isPrime = True\n",
    "    \n",
    "    def is_divisible(n,divisor):\n",
    "        for i in range(1,n):\n",
    "            if n<(divisor-1)*divisor: return False\n",
    "            if n%divisor==0: return True\n",
    "            else:\n",
    "                divisor += 1\n",
    "                return is_divisible(n,divisor)\n",
    "\n",
    "    if n==2:\n",
    "        isPrime = True\n",
    "    elif is_divisible(n,divisor=2):\n",
    "        isPrime = False\n",
    "    return isPrime\n",
    "\n",
    "def getNumPrimes_For(n):\n",
    "    if n < 2:\n",
    "        return 0\n",
    "    num_primes = 0\n",
    "    for i in range(2, n):\n",
    "        if isPrime_For(i):\n",
    "            num_primes += 1\n",
    "    return num_primes\n",
    "\n",
    "n = 1000\n",
    "t = timeit.timeit(lambda: getNumPrimes(n), number=10)\n",
    "print(f\"Time taken for n = {n}: {t:.6f} seconds\")"
   ]
  },
  {
   "cell_type": "code",
   "execution_count": null,
   "id": "2d01b01f",
   "metadata": {},
   "outputs": [],
   "source": []
  }
 ],
 "metadata": {
  "kernelspec": {
   "display_name": "Python 3 (ipykernel)",
   "language": "python",
   "name": "python3"
  },
  "language_info": {
   "codemirror_mode": {
    "name": "ipython",
    "version": 3
   },
   "file_extension": ".py",
   "mimetype": "text/x-python",
   "name": "python",
   "nbconvert_exporter": "python",
   "pygments_lexer": "ipython3",
   "version": "3.9.7"
  }
 },
 "nbformat": 4,
 "nbformat_minor": 5
}
