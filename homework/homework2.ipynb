{
 "cells": [
  {
   "cell_type": "code",
   "execution_count": 18,
   "id": "4f30d41a",
   "metadata": {},
   "outputs": [
    {
     "name": "stdout",
     "output_type": "stream",
     "text": [
      "0\n",
      "0\n",
      "-7\n",
      "-25\n",
      "-7\n",
      "25\n",
      "7.0\n",
      "30.0\n"
     ]
    }
   ],
   "source": [
    "import numpy as np\n",
    "#1\\2 wrong operator\n",
    "1/2 #Divides 1 by 2 and sets as float\n",
    "print(np.uint8(1/2)) #sets output range to 8-bit integer\n",
    "print(np.uint8(1/3)) #sets output range to 8-bit integer\n",
    "print(-5^2) #Uses xor operator and makes negative\n",
    "print(-5**2) #Squares 5 and makes negative\n",
    "print((-5) ^2) #Uses xor operator and makes negative\n",
    "print((-5)**2) # Squares negative 5\n",
    "print(10-6/2) # divides 6 by 2, then subtracts from 10\n",
    "print(5*4/2*3) # Multiplies 5 by 4, then divide by 2 then multiplies by 3"
   ]
  },
  {
   "cell_type": "markdown",
   "id": "b02c7024",
   "metadata": {},
   "source": [
    "Overflow. What would happen if you went beyond the range for a particular type? For example, the largest integer that can be stored in int8 is 127, and the smallest integer is -128, so what would happen if we type cast a larger integer to the type int8? Smaller integer? Use the MATLAB built-in functions intmin and intmax or Python’s numpy package command iinfo to find the largest and smallest integers that can be stored in int16 and int32."
   ]
  },
  {
   "cell_type": "code",
   "execution_count": 29,
   "id": "c031ef6b",
   "metadata": {},
   "outputs": [
    {
     "name": "stdout",
     "output_type": "stream",
     "text": [
      "-32768\n",
      "32767\n",
      "-2147483648\n",
      "2147483647\n"
     ]
    }
   ],
   "source": [
    "import numpy as np\n",
    "np.int8(-130) #Going over 127 overflows into negative, going below -128 overflows to positive\n",
    "ii16 = np.iinfo(np.int16)\n",
    "print(ii16.min)\n",
    "print(ii16.max)#Going over 32,767 overflows into negative, going below -32,768 overflows to positive\n",
    "ii32 = np.iinfo(np.int32) \n",
    "print(ii32.min)\n",
    "print(ii32.max)#Going over 2,147,483,647 overflows into negative, going below -2,147,483,648 overflows to positive"
   ]
  },
  {
   "cell_type": "code",
   "execution_count": 43,
   "id": "084b5065",
   "metadata": {},
   "outputs": [
    {
     "ename": "NameError",
     "evalue": "name 'whosMy' is not defined",
     "output_type": "error",
     "traceback": [
      "\u001b[1;31m---------------------------------------------------------------------------\u001b[0m",
      "\u001b[1;31mNameError\u001b[0m                                 Traceback (most recent call last)",
      "\u001b[1;32m~\\AppData\\Local\\Temp/ipykernel_2636/3419685109.py\u001b[0m in \u001b[0;36m<module>\u001b[1;34m\u001b[0m\n\u001b[0;32m      3\u001b[0m \u001b[0mb\u001b[0m \u001b[1;33m=\u001b[0m \u001b[1;34m'x'\u001b[0m\u001b[1;33m\u001b[0m\u001b[1;33m\u001b[0m\u001b[0m\n\u001b[0;32m      4\u001b[0m \u001b[0mc\u001b[0m \u001b[1;33m=\u001b[0m \u001b[1;32mTrue\u001b[0m\u001b[1;33m\u001b[0m\u001b[1;33m\u001b[0m\u001b[0m\n\u001b[1;32m----> 5\u001b[1;33m \u001b[0mwhosMy\u001b[0m\u001b[1;33m(\u001b[0m\u001b[0ma\u001b[0m\u001b[1;33m,\u001b[0m\u001b[0mb\u001b[0m\u001b[1;33m,\u001b[0m\u001b[0mc\u001b[0m\u001b[1;33m)\u001b[0m\u001b[1;33m\u001b[0m\u001b[1;33m\u001b[0m\u001b[0m\n\u001b[0m\u001b[0;32m      6\u001b[0m \u001b[0ma\u001b[0m \u001b[1;33m==\u001b[0m \u001b[0mc\u001b[0m\u001b[1;33m\u001b[0m\u001b[1;33m\u001b[0m\u001b[0m\n\u001b[0;32m      7\u001b[0m \u001b[0ma\u001b[0m \u001b[1;33m+\u001b[0m \u001b[0mc\u001b[0m\u001b[1;33m\u001b[0m\u001b[1;33m\u001b[0m\u001b[0m\n",
      "\u001b[1;31mNameError\u001b[0m: name 'whosMy' is not defined"
     ]
    }
   ],
   "source": [
    "import numpy as np\n",
    "a = 1 #sets a as 1\n",
    "b = 'x' #sets b as \"x\" string\n",
    "c = True #makes c true\n",
    "whos a b c #Finds type of a b c\n",
    "a == c #makes a equal to c\n",
    "a + c #adds a and c\n",
    "d = [1, 2, 3, 4] #Makes list\n",
    "e = ['a' 'b' 'c' 'd'] #makes one line list\n",
    "f = ['a', 'b', 'c', 'd'] #makes multiline list\n",
    "g = ['abcd'] #Makes into one part list\n",
    "h = {'a' 'b' 'c' 'd'} #Makes into dictionary object\n",
    "i = {a b c d}#Makes into dictionary object\n",
    "whos d e f g h i #Finds type of d e f g h i\n",
    "class(a) #Creates class named a\n",
    "type(a) #Finds what the class of a is\n",
    "True #Makes a variable true\n",
    "true #bad syntax\n",
    "False #Makes variable false\n",
    "false #Bad syntax"
   ]
  },
  {
   "cell_type": "code",
   "execution_count": 56,
   "id": "e4f44a82",
   "metadata": {},
   "outputs": [
    {
     "name": "stdout",
     "output_type": "stream",
     "text": [
      "1714101840304 1714101840304\n",
      "5 3 5\n",
      "1714101840304 1714101840240 1714101840304\n",
      "1714101840304 1714101840304\n",
      "1714204486272 1714204486272\n",
      "[5, 1] [5, 1]\n",
      "1714204486272 1714204486272\n",
      "[5] [5]\n",
      "1714204486528 1714204504320\n",
      "1714182359744 1714182359744\n",
      "1714182359744 1714182359744\n"
     ]
    }
   ],
   "source": [
    "#part a\n",
    "a = 5\n",
    "b = a\n",
    "print(id(a), id(b))\n",
    "\n",
    "c = b\n",
    "b = 3\n",
    "print(a,b,c)\n",
    "print(id(a), id(b), id(c))\n",
    "\n",
    "b = a\n",
    "b = 5\n",
    "print(id(a), id(b))\n",
    "#id() returns unique integer for every unique value\n",
    "\n",
    "#part b\n",
    "a = [5]\n",
    "b = a\n",
    "print(id(a),id(b))\n",
    "\n",
    "b.append(1)\n",
    "print(a,b)\n",
    "print(id(a), id(b))\n",
    "#append adds an element to the list made by []\n",
    "\n",
    "#part c\n",
    "a = [5]\n",
    "b = list(a)\n",
    "print(a,b)\n",
    "print(id(a),id(b))\n",
    "#list(a) creates a copy and are not the same list\n",
    "\n",
    "#part d\n",
    "a = (5,)\n",
    "b = tuple(a)\n",
    "print (id(a),id(b))\n",
    "\n",
    "b = a[:]\n",
    "print (id(a),id(b))\n",
    "#the lists are the same so the id is the same"
   ]
  },
  {
   "cell_type": "code",
   "execution_count": 75,
   "id": "7b7fc01f",
   "metadata": {},
   "outputs": [
    {
     "name": "stdout",
     "output_type": "stream",
     "text": [
      "-1.2246467991473532e-16\n"
     ]
    }
   ],
   "source": [
    "#Question 4\n",
    "a1 = 2 #1a is not variable\n",
    "b = a1 #b was not yet defined\n",
    "x = 2\n",
    "y = x + 4 # is it 6? #x needs to match case with x above\n",
    "import math #need to import math\n",
    "c = math.pi\n",
    "print (math.tan(c)) #importing math has pi listed\n",
    "c = 4**3**2**3\n",
    "_ = ((c-78564)/c + 32)\n",
    "discount = .12 #% is modulus operator\n",
    "AMOUNT = 120 # - is subtracting\n",
    "amount = 120 # $ is illegal operator\n",
    "address = \"hpl@simula.no\"\n",
    "And = \"duck\"\n",
    "Class = \"INF1100, gr 2\" #Must be strings\n",
    "continue_ = x > 0\n",
    "rev = fox = True\n",
    "Persian = ['a human language']\n",
    "true = fox is rev in Persian"
   ]
  },
  {
   "cell_type": "code",
   "execution_count": 11,
   "id": "166e08f9",
   "metadata": {},
   "outputs": [
    {
     "name": "stdout",
     "output_type": "stream",
     "text": [
      "The life expectancy for the millennials is projected to be 120 years! (But don't believe it...) \n",
      "\n",
      "A recent study published in the journal of Nature, discovered that over the past century, \n",
      " although the life expectancy has significantly increased due to technological advances, \n",
      " the maximum life span of the oldest people in the world has not changed much.\n",
      "\n",
      "Cardano was the first to introduce complex numbers of the form a + sqrt(-b) into algebra, but he had misgivings about it. \n",
      "In his solution to an algebra equation he encountered the solution 5 + sqrt(-15) for the unknown, which is now mathematically represented by \n",
      " \n",
      "       (5+3.872983346207417j) \n",
      "\n",
      "in Python, which can also be obtained as an addition of real and imaginary numbers in Python like this \n",
      "\n",
      "      \n",
      "      5 + sqrt(-15) = (5-15j), \n",
      "\n",
      "\n",
      "      which can also be manually stated as \n",
      "      \n",
      "      \n",
      "      (5+3.872983346207417j) \n",
      "\n",
      "\n",
      "\n",
      "\n",
      "\n",
      "One final note: \n",
      "\n",
      "\tIn python the sqrt function from math and cmath modules are different.\n",
      "\tThe sqrt function that returns \"float\" results is sqrt from math module.\n",
      "\tTherefore, if using math module, then,\n",
      "\n",
      "\t\tsqrt(25) = 5.0000, \n",
      "\n",
      "\twhich is obviously a float (real number).\n",
      "\n",
      "\n"
     ]
    },
    {
     "ename": "ZeroDivisionError",
     "evalue": "float division by zero",
     "output_type": "error",
     "traceback": [
      "\u001b[1;31m---------------------------------------------------------------------------\u001b[0m",
      "\u001b[1;31mZeroDivisionError\u001b[0m                         Traceback (most recent call last)",
      "\u001b[1;32m~\\AppData\\Local\\Temp/ipykernel_20748/1933325143.py\u001b[0m in \u001b[0;36m<module>\u001b[1;34m\u001b[0m\n\u001b[0;32m     43\u001b[0m \u001b[0mAnd\u001b[0m \u001b[0mdivision\u001b[0m \u001b[0mby\u001b[0m \u001b[1;36m0\u001b[0m\u001b[1;33m,\u001b[0m \u001b[0mwill\u001b[0m \u001b[0mgive\u001b[0m \u001b[0myou\u001b[0m \u001b[0ma\u001b[0m \u001b[0mruntime\u001b[0m \u001b[0mexception\u001b[0m\u001b[1;33m:\u001b[0m \u001b[1;36m1\u001b[0m\u001b[1;33m/\u001b[0m\u001b[1;36m0\u001b[0m \u001b[1;33m=\u001b[0m \u001b[1;33m{\u001b[0m\u001b[0msecond\u001b[0m\u001b[1;33m:\u001b[0m\u001b[1;33m}\u001b[0m\u001b[1;33m\u001b[0m\u001b[1;33m\u001b[0m\u001b[0m\n\u001b[0;32m     44\u001b[0m \u001b[1;33m\u001b[0m\u001b[0m\n\u001b[1;32m---> 45\u001b[1;33m ''' .format(first=0**0,second=(1.0/0.0))\n\u001b[0m\u001b[0;32m     46\u001b[0m )\n",
      "\u001b[1;31mZeroDivisionError\u001b[0m: float division by zero"
     ]
    }
   ],
   "source": [
    "#Question 5\n",
    "#! \\usr\\bin\\env 'python'\n",
    "\n",
    "print(\"The life expectancy for the millennials is projected to be {life_expectancy} years! (But don't believe it...) \\n\".format(life_expectancy = 120))\n",
    "\n",
    "print(\"A recent study published in the journal of Nature, discovered that over the past century, \\n although the life expectancy has significantly increased due to technological advances, \\n the maximum life span of the oldest people in the world has not changed much.\")\n",
    "\n",
    "import cmath # cmath function always return complex numbers\n",
    "import math # math function always work with and return real numbers\n",
    "import numpy\n",
    "print (\"\"\"\n",
    "Cardano was the first to introduce complex numbers of the form a + sqrt(-b) into algebra, but he had misgivings about it. \\\n",
    "\n",
    "In his solution to an algebra equation he encountered the solution 5 + sqrt(-15) for the unknown, which is now mathematically represented by \\n \\n \\\n",
    "      {first} \\n\\nin Python, which can also be obtained as an addition of real and imaginary numbers in Python like this \\n\\n\\\n",
    "      \n",
    "      5 + sqrt(-15) = {second}, \\n\\n\n",
    "      which can also be manually stated as \n",
    "      \n",
    "      \n",
    "      {third} \\n\n",
    "\n",
    "\\\n",
    "\"\"\".format( second=complex(5,-15) , first=5+ cmath.sqrt(-15) , third=5+3.872983346207417j ) )\n",
    "\n",
    "print('''\n",
    "\n",
    "One final note: \\n\n",
    "\\tIn python the sqrt function from math and cmath modules are different.\n",
    "\\tThe sqrt function that returns \"float\" results is sqrt from math module.\n",
    "\\tTherefore, if using math module, then,\n",
    "\n",
    "\\t\\tsqrt(25) = {:.4f}, \n",
    "\n",
    "\\twhich is obviously a float (real number).\n",
    "\n",
    "''' .format(sqrt(25)) \n",
    ")\n",
    "\n",
    "print('''\n",
    "\n",
    "Also note that by convention, 0**0 = {first:d} in Python.\n",
    "And division by 0, will give you a runtime exception: 1/0 = {second:}\n",
    "\n",
    "''' .format(first=0**0,second=(1.0/0.0))\n",
    ")"
   ]
  },
  {
   "cell_type": "code",
   "execution_count": 27,
   "id": "8be14087",
   "metadata": {},
   "outputs": [
    {
     "name": "stdout",
     "output_type": "stream",
     "text": [
      "396.5763425294507\n",
      "315.2178637859262\n"
     ]
    }
   ],
   "source": [
    "#Question 6\n",
    "import math\n",
    "m = 67\n",
    "p = 1.038\n",
    "to = 4\n",
    "t1 = 20\n",
    "tw = 100\n",
    "ty = 70\n",
    "c = 3.7\n",
    "k = 0.0054\n",
    "pi = math.pi\n",
    "\n",
    "Num = (m**(2/3))*c*(p**(1/3))\n",
    "Den = k*(pi**2)*(((4*pi)/3)**(2/3))\n",
    "Log1 = math.log(.76*((to - tw)/(ty - tw)))\n",
    "Log2 = math.log(.76*((t1 - tw)/(ty - tw)))\n",
    "print((Num/Den)*Log1)\n",
    "print((Num/Den)*Log2)"
   ]
  },
  {
   "cell_type": "code",
   "execution_count": 45,
   "id": "565953c9",
   "metadata": {},
   "outputs": [
    {
     "name": "stdout",
     "output_type": "stream",
     "text": [
      "['Christian-Andrew Bagby-Wright', 'Matthew Chrysler', 'Niyousha Davachi', 'Pauline Dredger', 'Marcos Guillen', 'Lauren Kuffel', 'Shashank Kumbhare', 'Hany Mahdy', 'Sarah Moorman', 'Andrew Myers', 'Joshua Osborne', 'Rebecca Proni', 'Carolina Vedovato']\n"
     ]
    }
   ],
   "source": [
    "#Question 7\n",
    "Class_Dict={\"Instructor\":\"Amir Shahmorandi\", \"Student\": [\"Christian-Andrew Bagby-Wright\", \"Matthew Chrysler\", \"Niyousha Davachi\", \"Pauline Dredger\", \"Marcos Guillen\", \"Lauren Kuffel\",\"Shashank Kumbhare\", \"Hany Mahdy\", \"Sarah Moorman\", \"Andrew Myers\", \"Joshua Osborne\", \"Rebecca Proni\",  \"Carolina Vedovato\"]}\n",
    "print(Class_Dict[\"Student\"])\n"
   ]
  },
  {
   "cell_type": "code",
   "execution_count": 53,
   "id": "7484047d",
   "metadata": {},
   "outputs": [
    {
     "name": "stdout",
     "output_type": "stream",
     "text": [
      "This is Python version 3.5.2 \n",
      "\n",
      "Python is the best language for String Interpretation! \n",
      "\n",
      "!noitalupinaM gnirtS rof egaugnal tseb eht si nohtyP \n",
      "\n",
      "!otlpnmgit o gunlte h inhy \n",
      "\n",
      "pYTHON IS THE BEST LANGUAGE FOR sTRING MANIPULATION! \n",
      "\n",
      "\n",
      "The sentence 'Python is the best language for String Manipulation!' contains \n",
      "4 'a' letters, and \n",
      "0 'A' letters! \n",
      "\n",
      "Python \n",
      "is \n",
      "the \n",
      "best \n",
      "language \n",
      "for \n",
      "String \n",
      "manipulation! \n",
      "\n",
      "PYTHON \n",
      "IS \n",
      "THE \n",
      "BEST \n",
      "LANGUAGE \n",
      "FOR \n",
      "STRING \n",
      "MANIPULATION!\n"
     ]
    }
   ],
   "source": [
    "#Question 8\n",
    "#! \\usr\\bin\\env python\n",
    "\n",
    "print(\"This is Python version 3.5.2 \\n\\nPython is the best language for String Interpretation! \\n\\n!noitalupinaM gnirtS rof egaugnal tseb eht si nohtyP \\n\\n!otlpnmgit o gunlte h inhy \\n\\npYTHON IS THE BEST LANGUAGE FOR sTRING MANIPULATION! \\n\\n\\nThe sentence 'Python is the best language for String Manipulation!' contains \\n4 'a' letters, and \\n0 'A' letters! \\n\\nPython \\nis \\nthe \\nbest \\nlanguage \\nfor \\nString \\nmanipulation! \\n\\nPYTHON \\nIS \\nTHE \\nBEST \\nLANGUAGE \\nFOR \\nSTRING \\nMANIPULATION!\")"
   ]
  },
  {
   "cell_type": "code",
   "execution_count": null,
   "id": "7d3b3c79",
   "metadata": {},
   "outputs": [],
   "source": []
  }
 ],
 "metadata": {
  "kernelspec": {
   "display_name": "Python 3 (ipykernel)",
   "language": "python",
   "name": "python3"
  },
  "language_info": {
   "codemirror_mode": {
    "name": "ipython",
    "version": 3
   },
   "file_extension": ".py",
   "mimetype": "text/x-python",
   "name": "python",
   "nbconvert_exporter": "python",
   "pygments_lexer": "ipython3",
   "version": "3.9.7"
  }
 },
 "nbformat": 4,
 "nbformat_minor": 5
}
